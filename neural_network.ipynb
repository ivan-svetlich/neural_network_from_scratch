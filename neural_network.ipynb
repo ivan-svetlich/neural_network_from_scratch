{
 "cells": [
  {
   "cell_type": "markdown",
   "id": "870c8934-7c9f-4297-91df-8c513bdbe01b",
   "metadata": {},
   "source": [
    "# Neural Network from Scratch"
   ]
  },
  {
   "cell_type": "markdown",
   "id": "2341b09c-dc72-4a73-9959-ba9807a2f818",
   "metadata": {},
   "source": [
    "The following code implements a simple neural network with $depth=1$ (only one hidden layer). \n",
    "* The sigmoid function is used as activation function.\n",
    "* Weights and biases are initialized with random values.\n",
    "* The network adapts to any number of features and outputs, as long as $\\text{[number of outputs]} < \\text{[number of feautures]}$. \n",
    "* The number of nodes in the hidden layer is calculated as the average between $\\text{[number of feautures]}$  and $\\text{[number of outputs]}$, rounded up.\n"
   ]
  },
  {
   "cell_type": "markdown",
   "id": "de3360e0-e6f6-4e99-aec9-8f0aa2a8987e",
   "metadata": {},
   "source": [
    "Inspired by [An Introduction to Neural Networks](https://victorzhou.com/blog/intro-to-neural-networks/). This version extends the functionality to any number of features and outputs."
   ]
  },
  {
   "cell_type": "markdown",
   "id": "3184101b-a5cf-4f24-8766-71f68344a9f4",
   "metadata": {},
   "source": [
    "---\n"
   ]
  },
  {
   "cell_type": "markdown",
   "id": "c2bdc72a-b819-4ec2-9c31-fb67ce355006",
   "metadata": {},
   "source": [
    "### Defining NeuralNetwork class and required functions"
   ]
  },
  {
   "cell_type": "code",
   "execution_count": 72,
   "id": "ae4bbb7a-d7f4-4ae5-96cd-7c4b266e48e0",
   "metadata": {
    "tags": []
   },
   "outputs": [],
   "source": [
    "import math\n",
    "import numpy as np\n",
    "\n",
    "np.random.seed(123)\n",
    "\n",
    "def sigmoid(x):\n",
    "    # Sigmoid activation function: f(x) = 1 / (1 + e^(-x))\n",
    "    return 1 / (1 + np.exp(-x))\n",
    "\n",
    "def deriv_sigmoid(x):\n",
    "    # Derivative of sigmoid: f'(x) = f(x) * (1 - f(x))\n",
    "    fx = sigmoid(x)\n",
    "    return fx * (1 - fx)\n",
    "\n",
    "def mse_loss(y_true, y_pred):\n",
    "    return ((y_true - y_pred) ** 2).mean()\n",
    "\n",
    "class NeuralNetwork:\n",
    "    def __init__(self, number_features, number_outputs):\n",
    "        number_hidden_layers = math.ceil((number_features + number_outputs) / 2)\n",
    "        # Weights\n",
    "        self.w_1 = np.random.normal(size=(number_features, number_hidden_layers))\n",
    "        self.w_2 = np.random.normal(size=(number_hidden_layers, number_outputs))\n",
    "        #Biases\n",
    "        self.b_1 = np.random.normal(size=(number_hidden_layers))\n",
    "        self.b_2 = np.random.normal(size=(number_outputs))\n",
    "\n",
    "    def feedforward(self, x):   \n",
    "        h = sigmoid(np.dot(x, np.transpose(self.w_1)) + self.b_1)\n",
    "        o1 = sigmoid(np.dot(h, self.w_2) + self.b_2)\n",
    "        return o1\n",
    "\n",
    "    def train(self, X_train, y_train):\n",
    "        learn_rate = 0.1\n",
    "        epochs = 1000 # number of times to loop through the entire dataset\n",
    "        epoch_list = []\n",
    "        loss_list = []\n",
    "\n",
    "        for epoch in range(epochs):\n",
    "            for x, y_true in zip(X_train, y_train):\n",
    "                sum_h = np.dot(x, np.transpose(self.w_1)) + self.b_1\n",
    "                h = sigmoid(sum_h)\n",
    "\n",
    "                sum_o1 = np.dot(h, self.w_2) + self.b_2\n",
    "                o1 = sigmoid(sum_o1)\n",
    "                y_pred = o1[0]\n",
    "\n",
    "                # --- Calculate partial derivatives.\n",
    "                d_L_d_ypred = -2 * (y_true - y_pred)\n",
    "\n",
    "                # Neuron o1\n",
    "                d_ypred_d_w2 = h * deriv_sigmoid(sum_o1)\n",
    "                d_ypred_d_b2 = deriv_sigmoid(sum_o1)\n",
    "                d_ypred_d_h = self.w_2 * deriv_sigmoid(sum_o1)\n",
    "\n",
    "                # Neurons in hidden layer\n",
    "                d_h1_d_w1 = x.reshape(len(x),1) * deriv_sigmoid(sum_h)\n",
    "                d_h1_d_b1 = deriv_sigmoid(sum_h)\n",
    "\n",
    "                # --- Update weights and biases\n",
    "                # Neurons in hidden layer\n",
    "                self.w_1 -= np.transpose(learn_rate * np.transpose(d_h1_d_w1) * d_L_d_ypred * d_ypred_d_h)\n",
    "                self.b_1 -= (learn_rate * d_L_d_ypred * d_ypred_d_h * d_h1_d_b1.reshape(len(d_h1_d_b1), 1)).reshape(len(self.b_1))\n",
    "\n",
    "                # Neuron o1\n",
    "                self.w_2 -= (learn_rate * d_L_d_ypred * d_ypred_d_w2).reshape(len(self.w_2), 1)\n",
    "                self.b_2 -= learn_rate * d_L_d_ypred * d_ypred_d_b2\n",
    "            \n",
    "            # --- Calculate total loss at the end of each epoch\n",
    "            if epoch % 10 == 0:\n",
    "                y_preds = np.apply_along_axis(self.feedforward, 1, X_train)\n",
    "                loss = mse_loss(y_train, y_preds.reshape(len(y_preds)))\n",
    "                epoch_list.append(epoch)\n",
    "                loss_list.append(loss)\n",
    "        \n",
    "        return pd.DataFrame({'Epoch': epoch_list, 'Loss': loss_list})"
   ]
  },
  {
   "cell_type": "markdown",
   "id": "5c0ef12b-d1c6-44a0-b745-195b8f062784",
   "metadata": {},
   "source": [
    "### Importing data"
   ]
  },
  {
   "cell_type": "code",
   "execution_count": 82,
   "id": "09a863d5-123c-4ac9-9a97-478ee7d2fc3c",
   "metadata": {},
   "outputs": [
    {
     "data": {
      "text/html": [
       "<div>\n",
       "<style scoped>\n",
       "    .dataframe tbody tr th:only-of-type {\n",
       "        vertical-align: middle;\n",
       "    }\n",
       "\n",
       "    .dataframe tbody tr th {\n",
       "        vertical-align: top;\n",
       "    }\n",
       "\n",
       "    .dataframe thead th {\n",
       "        text-align: right;\n",
       "    }\n",
       "</style>\n",
       "<table border=\"1\" class=\"dataframe\">\n",
       "  <thead>\n",
       "    <tr style=\"text-align: right;\">\n",
       "      <th></th>\n",
       "      <th>Name</th>\n",
       "      <th>Weight (lb)</th>\n",
       "      <th>Weight (kg)</th>\n",
       "      <th>Height (in)</th>\n",
       "      <th>Height (cm)</th>\n",
       "      <th>Gender</th>\n",
       "    </tr>\n",
       "  </thead>\n",
       "  <tbody>\n",
       "    <tr>\n",
       "      <th>0</th>\n",
       "      <td>Alice</td>\n",
       "      <td>133</td>\n",
       "      <td>60.327777</td>\n",
       "      <td>65</td>\n",
       "      <td>165.10</td>\n",
       "      <td>F</td>\n",
       "    </tr>\n",
       "    <tr>\n",
       "      <th>1</th>\n",
       "      <td>Bob</td>\n",
       "      <td>160</td>\n",
       "      <td>72.574770</td>\n",
       "      <td>72</td>\n",
       "      <td>182.88</td>\n",
       "      <td>M</td>\n",
       "    </tr>\n",
       "    <tr>\n",
       "      <th>2</th>\n",
       "      <td>Charlie</td>\n",
       "      <td>152</td>\n",
       "      <td>68.946031</td>\n",
       "      <td>70</td>\n",
       "      <td>177.80</td>\n",
       "      <td>M</td>\n",
       "    </tr>\n",
       "    <tr>\n",
       "      <th>3</th>\n",
       "      <td>Diana</td>\n",
       "      <td>120</td>\n",
       "      <td>54.431077</td>\n",
       "      <td>60</td>\n",
       "      <td>152.40</td>\n",
       "      <td>F</td>\n",
       "    </tr>\n",
       "  </tbody>\n",
       "</table>\n",
       "</div>"
      ],
      "text/plain": [
       "      Name  Weight (lb)  Weight (kg)  Height (in)  Height (cm) Gender\n",
       "0    Alice          133    60.327777           65       165.10      F\n",
       "1      Bob          160    72.574770           72       182.88      M\n",
       "2  Charlie          152    68.946031           70       177.80      M\n",
       "3    Diana          120    54.431077           60       152.40      F"
      ]
     },
     "execution_count": 82,
     "metadata": {},
     "output_type": "execute_result"
    }
   ],
   "source": [
    "import pandas as pd\n",
    "\n",
    "df_train = pd.read_csv(\"./data/train_data.csv\")\n",
    "df_train"
   ]
  },
  {
   "cell_type": "markdown",
   "id": "9b6766f5-6b0e-470a-a695-855f3255d42d",
   "metadata": {},
   "source": [
    "### Transforming DataFrame"
   ]
  },
  {
   "cell_type": "code",
   "execution_count": 83,
   "id": "7d1dcd6b-6a7d-485b-a104-07721aa9db0a",
   "metadata": {},
   "outputs": [
    {
     "data": {
      "text/html": [
       "<div>\n",
       "<style scoped>\n",
       "    .dataframe tbody tr th:only-of-type {\n",
       "        vertical-align: middle;\n",
       "    }\n",
       "\n",
       "    .dataframe tbody tr th {\n",
       "        vertical-align: top;\n",
       "    }\n",
       "\n",
       "    .dataframe thead th {\n",
       "        text-align: right;\n",
       "    }\n",
       "</style>\n",
       "<table border=\"1\" class=\"dataframe\">\n",
       "  <thead>\n",
       "    <tr style=\"text-align: right;\">\n",
       "      <th></th>\n",
       "      <th>Name</th>\n",
       "      <th>Weight_dev</th>\n",
       "      <th>Height_dev</th>\n",
       "      <th>Gender</th>\n",
       "    </tr>\n",
       "  </thead>\n",
       "  <tbody>\n",
       "    <tr>\n",
       "      <th>0</th>\n",
       "      <td>Alice</td>\n",
       "      <td>-3.742137</td>\n",
       "      <td>-4.445</td>\n",
       "      <td>1</td>\n",
       "    </tr>\n",
       "    <tr>\n",
       "      <th>1</th>\n",
       "      <td>Bob</td>\n",
       "      <td>8.504856</td>\n",
       "      <td>13.335</td>\n",
       "      <td>0</td>\n",
       "    </tr>\n",
       "    <tr>\n",
       "      <th>2</th>\n",
       "      <td>Charlie</td>\n",
       "      <td>4.876117</td>\n",
       "      <td>8.255</td>\n",
       "      <td>0</td>\n",
       "    </tr>\n",
       "    <tr>\n",
       "      <th>3</th>\n",
       "      <td>Diana</td>\n",
       "      <td>-9.638837</td>\n",
       "      <td>-17.145</td>\n",
       "      <td>1</td>\n",
       "    </tr>\n",
       "  </tbody>\n",
       "</table>\n",
       "</div>"
      ],
      "text/plain": [
       "      Name  Weight_dev  Height_dev  Gender\n",
       "0    Alice   -3.742137      -4.445       1\n",
       "1      Bob    8.504856      13.335       0\n",
       "2  Charlie    4.876117       8.255       0\n",
       "3    Diana   -9.638837     -17.145       1"
      ]
     },
     "execution_count": 83,
     "metadata": {},
     "output_type": "execute_result"
    }
   ],
   "source": [
    "df_train = df_train.drop(['Weight (lb)', 'Height (in)'], axis=1)\n",
    "\n",
    "# Centering the data substraction the mean\n",
    "avg_weight = df_train['Weight (kg)'].mean()\n",
    "avg_height = df_train['Height (cm)'].mean()\n",
    "df_train['Weight (kg)'] = df_train['Weight (kg)'] - avg_weight\n",
    "df_train['Height (cm)'] = df_train['Height (cm)'] - avg_height\n",
    "df_train.rename(columns={\"Weight (kg)\": \"Weight_dev\", \"Height (cm)\": \"Height_dev\"}, inplace=True)\n",
    "\n",
    "df_train['Gender'] = df_train['Gender'].apply(lambda x: 1 if x == 'F' else (0 if x == 'M' else np.NaN))\n",
    "\n",
    "df_train"
   ]
  },
  {
   "cell_type": "markdown",
   "id": "2fb0ead9-f998-4570-abaa-e20b7efa1f2b",
   "metadata": {},
   "source": [
    "### Dividing data into features and target"
   ]
  },
  {
   "cell_type": "code",
   "execution_count": 84,
   "id": "090d06ca-7ef9-4055-86e4-199f92c21e4e",
   "metadata": {},
   "outputs": [],
   "source": [
    "X_train = df_train[['Weight_dev', 'Height_dev']].to_numpy()\n",
    "y_train = df_train['Gender'].to_numpy()"
   ]
  },
  {
   "cell_type": "markdown",
   "id": "1b74cd62-10a7-403e-aad3-8ee29b6cd2bb",
   "metadata": {},
   "source": [
    "### Instantiating and training a neural Network"
   ]
  },
  {
   "cell_type": "code",
   "execution_count": 85,
   "id": "abc821bb-8053-49bd-9703-8f71dcc4661f",
   "metadata": {
    "tags": []
   },
   "outputs": [],
   "source": [
    "network = NeuralNetwork(2,1) # number_features=2, number_outputs=1\n",
    "loss = network.train(X_train, y_train)"
   ]
  },
  {
   "cell_type": "markdown",
   "id": "64cbc608-e166-4433-b0f0-b39df43586ad",
   "metadata": {},
   "source": [
    "### Looking at the results"
   ]
  },
  {
   "cell_type": "code",
   "execution_count": 86,
   "id": "a7e954da-9285-41e8-b346-2db90a1cfbd4",
   "metadata": {},
   "outputs": [
    {
     "data": {
      "text/plain": [
       "Text(0, 0.5, 'Loss')"
      ]
     },
     "execution_count": 86,
     "metadata": {},
     "output_type": "execute_result"
    },
    {
     "data": {
      "image/png": "[encoded data removed]",
      "text/plain": [
       "<Figure size 864x432 with 1 Axes>"
      ]
     },
     "metadata": {},
     "output_type": "display_data"
    }
   ],
   "source": [
    "import matplotlib.pyplot as plt\n",
    "import seaborn as sns\n",
    "from matplotlib.dates import MonthLocator, DateFormatter\n",
    "from matplotlib.ticker import (MultipleLocator, AutoMinorLocator, NullFormatter)\n",
    "sns.set_style('whitegrid') \n",
    "\n",
    "f, ax = plt.subplots(figsize=(12, 6))\n",
    "lp = sns.lineplot(data=loss, x=\"Epoch\", y=\"Loss\", color=\"#3F90F5\", ax=ax)\n",
    "lp.axes.set_title(\"Loss vs Epoch graph\",fontsize=25)\n",
    "lp.set_xlabel(\"Epoch\",fontsize=20)\n",
    "lp.set_ylabel(\"Loss\", fontsize=20)"
   ]
  },
  {
   "cell_type": "markdown",
   "id": "33d3164a-0772-4408-8332-e95d7a979437",
   "metadata": {},
   "source": [
    "### Making predictions"
   ]
  },
  {
   "cell_type": "code",
   "execution_count": 90,
   "id": "1cdaa2c5-3e59-46cd-9f7d-0746ad82d10a",
   "metadata": {},
   "outputs": [],
   "source": [
    "emily = np.array([54, 160])\n",
    "frank = np.array([70, 174])\n",
    "\n",
    "# Substracting averages\n",
    "avgs = np.array([avg_weight, avg_height])\n",
    "emily = emily - avgs\n",
    "frank = frank - avgs"
   ]
  },
  {
   "cell_type": "code",
   "execution_count": 92,
   "id": "75890a9b-2b25-48b2-ac94-7c98ba0df9dc",
   "metadata": {},
   "outputs": [],
   "source": [
    "def get_prediction(value):\n",
    "    return 'Female' if value > 0.5 else 'Male'"
   ]
  },
  {
   "cell_type": "code",
   "execution_count": 93,
   "id": "da1f0834-25a1-41f2-a2e4-4e21fec9f37a",
   "metadata": {},
   "outputs": [
    {
     "name": "stdout",
     "output_type": "stream",
     "text": [
      "Emily: Female\n",
      "Frank: Male\n"
     ]
    }
   ],
   "source": [
    "print(\"Emily: %s\" % get_prediction(network.feedforward(emily)))\n",
    "print(\"Frank: %s\" % get_prediction(network.feedforward(frank)))"
   ]
  }
 ],
 "metadata": {
  "kernelspec": {
   "display_name": "Python 3 (ipykernel)",
   "language": "python",
   "name": "python3"
  },
  "language_info": {
   "codemirror_mode": {
    "name": "ipython",
    "version": 3
   },
   "file_extension": ".py",
   "mimetype": "text/x-python",
   "name": "python",
   "nbconvert_exporter": "python",
   "pygments_lexer": "ipython3",
   "version": "3.10.4"
  }
 },
 "nbformat": 4,
 "nbformat_minor": 5
}
